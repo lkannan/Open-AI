{
 "cells": [
  {
   "cell_type": "code",
   "execution_count": null,
   "metadata": {},
   "outputs": [],
   "source": [
    "import openai, os\n",
    "from dotenv import load_dotenv, find_dotenv\n",
    "_ = load_dotenv(override=True)"
   ]
  },
  {
   "cell_type": "code",
   "execution_count": null,
   "metadata": {},
   "outputs": [],
   "source": [
    "openai.api_key = os.getenv(\"api_key\")"
   ]
  },
  {
   "cell_type": "code",
   "execution_count": null,
   "metadata": {},
   "outputs": [],
   "source": [
    "# list all available models from openai\n",
    "dict_models = openai.Model.list()\n",
    "for model in dict_models['data']:\n",
    "    print(model['id'])\n"
   ]
  },
  {
   "cell_type": "code",
   "execution_count": null,
   "metadata": {},
   "outputs": [],
   "source": [
    "# Retrieves a model instance, providing basic information about the model\n",
    "openai.Model.retrieve('text-davinci-003')\n"
   ]
  },
  {
   "cell_type": "code",
   "execution_count": null,
   "metadata": {},
   "outputs": [],
   "source": [
    "# Creates a completion for the provided prompt and parameters.\n",
    "openai.Completion.create(\n",
    "    model = 'text-davinci-003',\n",
    "    prompt = 'the pig says '   \n",
    ")\n"
   ]
  },
  {
   "cell_type": "code",
   "execution_count": null,
   "metadata": {},
   "outputs": [],
   "source": [
    "def get_completion(prompt):\n",
    "    response = openai.Completion.create(\n",
    "        model = 'text-davinci-003',\n",
    "        prompt = prompt,\n",
    "        max_tokens = 200)\n",
    "    return response.choices[0].text"
   ]
  },
  {
   "cell_type": "code",
   "execution_count": null,
   "metadata": {},
   "outputs": [],
   "source": [
    "prompt = '''\n",
    "user: when was the last ipl palyed?\n",
    "AI: 2019\n",
    "user: who won the last ipl?\n",
    "AI: \n",
    "'''"
   ]
  },
  {
   "cell_type": "code",
   "execution_count": null,
   "metadata": {},
   "outputs": [],
   "source": [
    "get_completion(prompt)"
   ]
  },
  {
   "cell_type": "code",
   "execution_count": null,
   "metadata": {},
   "outputs": [],
   "source": [
    "print(openai.Completion.create(\n",
    "    model = 'text-davinci-003',\n",
    "    prompt = 'most populated cities with states in india',\n",
    "    max_tokens = 200,\n",
    "    stop = 'Tamil Nadu'\n",
    ")['choices'][0]['text'])\n"
   ]
  },
  {
   "cell_type": "code",
   "execution_count": null,
   "metadata": {},
   "outputs": [],
   "source": [
    "prompt = '''\n",
    "You are a chatbot that speaks like a toddler.\n",
    "\n",
    "User: Hi, how are you?\n",
    "Chatbot: I'm good.\n",
    "User: Tell me about your family\n",
    "Chatbot: I have a mommy and a daddy and a brother and a dog named snowy\n",
    "User: What do you do for fun?\n",
    "Chatbot: I like to play with snowy, draw pictures, and go for walks with my mommy and brother.\n",
    "User: That sounds fun! What's your favorite color?\n",
    "Chatbot: My favorite color is blue!\n",
    "User: \n",
    "'''\n",
    "\n",
    "openai.Completion.create(\n",
    "    model='text-davinci-003',\n",
    "    prompt=prompt,\n",
    "    max_tokens=100,\n",
    "    stop = ['Chatbot:','User:']\n",
    ")\n"
   ]
  },
  {
   "cell_type": "code",
   "execution_count": null,
   "metadata": {},
   "outputs": [],
   "source": [
    "openai.Completion.create(\n",
    "    model='text-davinci-003',\n",
    "    prompt='Tell me a joke',\n",
    "    max_tokens=100,\n",
    "    n=3\n",
    ")"
   ]
  },
  {
   "cell_type": "code",
   "execution_count": null,
   "metadata": {},
   "outputs": [],
   "source": [
    "print(openai.Completion.create(\n",
    "    model='text-davinci-002',\n",
    "    prompt='Which is the tallest building?',\n",
    "    echo=True\n",
    ")['choices'][0]['text'])"
   ]
  },
  {
   "cell_type": "code",
   "execution_count": null,
   "metadata": {},
   "outputs": [],
   "source": []
  }
 ],
 "metadata": {
  "kernelspec": {
   "display_name": "oai",
   "language": "python",
   "name": "python3"
  },
  "language_info": {
   "codemirror_mode": {
    "name": "ipython",
    "version": 3
   },
   "file_extension": ".py",
   "mimetype": "text/x-python",
   "name": "python",
   "nbconvert_exporter": "python",
   "pygments_lexer": "ipython3",
   "version": "3.8.3"
  },
  "orig_nbformat": 4
 },
 "nbformat": 4,
 "nbformat_minor": 2
}
